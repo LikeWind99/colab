{
  "nbformat": 4,
  "nbformat_minor": 0,
  "metadata": {
    "colab": {
      "provenance": [],
      "authorship_tag": "ABX9TyPBrkWjgmdf5ztz+GSsmmhe",
      "include_colab_link": true
    },
    "kernelspec": {
      "name": "python3",
      "display_name": "Python 3"
    },
    "language_info": {
      "name": "python"
    }
  },
  "cells": [
    {
      "cell_type": "markdown",
      "metadata": {
        "id": "view-in-github",
        "colab_type": "text"
      },
      "source": [
        "<a href=\"https://colab.research.google.com/github/LikeWind99/colab/blob/main/spark_nlp.ipynb\" target=\"_parent\"><img src=\"https://colab.research.google.com/assets/colab-badge.svg\" alt=\"Open In Colab\"/></a>"
      ]
    },
    {
      "cell_type": "markdown",
      "source": [
        "# 使用spark进行mini_newsgroups数据集的分类\n",
        "\n",
        "本次课程设计我们使用Google提供的云平台colab进行，课程设计的主要内容是使用pyspark和spark-nlp对经典的新闻数据集`mini_newsgroups`进行分类。\n",
        "\n",
        "Colaboratory 简称“Colab”，是 Google Research 团队开发的一款产品。在 Colab 中，任何人都可以通过浏览器编写和执行任意 Python 代码。它尤其适合机器学习、数据分析和教育目的。从技术上来说，Colab 是一种托管式 Jupyter 笔记本服务。用户无需设置，就可以直接使用，同时还能获得 GPU 等计算资源的免费使用权限。\n",
        "\n",
        "Google对colab进行了各种优化与适配，因此在配置开发环境时会十分方便，相较于在本地从头配置开发环境，使用colab无疑是更加方便的，同时由于其服务器在国外，当我们访问外网下载数据时，colab的下载速度很快的，综合考虑下本次课程项目全程在colab云端平台上进行。\n"
      ],
      "metadata": {
        "id": "lqd5zuUUaR4J"
      }
    },
    {
      "cell_type": "markdown",
      "source": [
        "### 安装java，pyspark，spark-nlp以及它们依赖的库"
      ],
      "metadata": {
        "id": "EvHwuw0pb_b0"
      }
    },
    {
      "cell_type": "code",
      "execution_count": null,
      "metadata": {
        "colab": {
          "base_uri": "https://localhost:8080/"
        },
        "id": "16q4Gl0_f-kS",
        "outputId": "9835a3ce-4161-4a49-805b-1e7153dffcd6"
      },
      "outputs": [
        {
          "output_type": "stream",
          "name": "stdout",
          "text": [
            "openjdk version \"1.8.0_352\"\n",
            "OpenJDK Runtime Environment (build 1.8.0_352-8u352-ga-1~18.04-b08)\n",
            "OpenJDK 64-Bit Server VM (build 25.352-b08, mixed mode)\n",
            "Looking in indexes: https://pypi.org/simple, https://us-python.pkg.dev/colab-wheels/public/simple/\n",
            "Collecting pyspark\n",
            "  Downloading pyspark-3.3.1.tar.gz (281.4 MB)\n",
            "\u001b[K     |████████████████████████████████| 281.4 MB 40 kB/s \n",
            "\u001b[?25hCollecting py4j==0.10.9.5\n",
            "  Downloading py4j-0.10.9.5-py2.py3-none-any.whl (199 kB)\n",
            "\u001b[K     |████████████████████████████████| 199 kB 70.1 MB/s \n",
            "\u001b[?25hBuilding wheels for collected packages: pyspark\n",
            "  Building wheel for pyspark (setup.py) ... \u001b[?25l\u001b[?25hdone\n",
            "  Created wheel for pyspark: filename=pyspark-3.3.1-py2.py3-none-any.whl size=281845512 sha256=e729e30d3e2b087a316dee772c36038751a95ad88d84c6767e5d005efb5b95ec\n",
            "  Stored in directory: /root/.cache/pip/wheels/43/dc/11/ec201cd671da62fa9c5cc77078235e40722170ceba231d7598\n",
            "Successfully built pyspark\n",
            "Installing collected packages: py4j, pyspark\n",
            "Successfully installed py4j-0.10.9.5 pyspark-3.3.1\n",
            "Looking in indexes: https://pypi.org/simple, https://us-python.pkg.dev/colab-wheels/public/simple/\n",
            "Collecting spark-nlp\n",
            "  Downloading spark_nlp-4.2.6-py2.py3-none-any.whl (453 kB)\n",
            "\u001b[K     |████████████████████████████████| 453 kB 5.0 MB/s \n",
            "\u001b[?25hInstalling collected packages: spark-nlp\n",
            "Successfully installed spark-nlp-4.2.6\n"
          ]
        }
      ],
      "source": [
        "## install java, pyspark and spark-nlp \n",
        "import os\n",
        "\n",
        "# Install java\n",
        "! apt-get install -y openjdk-8-jdk-headless -qq > /dev/null\n",
        "os.environ[\"JAVA_HOME\"] = \"/usr/lib/jvm/java-8-openjdk-amd64\"\n",
        "os.environ[\"PATH\"] = os.environ[\"JAVA_HOME\"] + \"/bin:\" + os.environ[\"PATH\"]\n",
        "! java -version\n",
        "\n",
        "# Install pyspark\n",
        "! pip3 install --ignore-installed pyspark\n",
        "\n",
        "# Install Spark NLP\n",
        "! pip3 install --ignore-installed spark-nlp"
      ]
    },
    {
      "cell_type": "markdown",
      "source": [
        "### 下载数据集\n",
        "这里直接使用Linux的`wget`指令下载已有的`mini_newsgroups`数据集。原本是想使用分布式数据爬虫`scrapy-redis`在腾讯新闻网下载时事新闻的，但是colab并不支持多开虚拟机，因此放弃了这个想法，直接使用已经整理好的`mini_newsgroups`数据集。"
      ],
      "metadata": {
        "id": "qQYozDCwcO5W"
      }
    },
    {
      "cell_type": "code",
      "source": [
        "! mkdir -p data\n",
        "! wget https://archive.ics.uci.edu/ml/machine-learning-databases/20newsgroups-mld/mini_newsgroups.tar.gz"
      ],
      "metadata": {
        "colab": {
          "base_uri": "https://localhost:8080/"
        },
        "id": "SnnlTV6TgIcx",
        "outputId": "df106dd9-fa79-471b-b3ee-5efe4108417b"
      },
      "execution_count": null,
      "outputs": [
        {
          "output_type": "stream",
          "name": "stdout",
          "text": [
            "--2022-12-27 08:03:22--  https://archive.ics.uci.edu/ml/machine-learning-databases/20newsgroups-mld/mini_newsgroups.tar.gz\n",
            "Resolving archive.ics.uci.edu (archive.ics.uci.edu)... 128.195.10.252\n",
            "Connecting to archive.ics.uci.edu (archive.ics.uci.edu)|128.195.10.252|:443... connected.\n",
            "HTTP request sent, awaiting response... 200 OK\n",
            "Length: 1860687 (1.8M) [application/x-httpd-php]\n",
            "Saving to: ‘mini_newsgroups.tar.gz’\n",
            "\n",
            "\rmini_newsgroups.tar   0%[                    ]       0  --.-KB/s               \rmini_newsgroups.tar 100%[===================>]   1.77M  --.-KB/s    in 0.07s   \n",
            "\n",
            "2022-12-27 08:03:22 (25.7 MB/s) - ‘mini_newsgroups.tar.gz’ saved [1860687/1860687]\n",
            "\n"
          ]
        }
      ]
    },
    {
      "cell_type": "code",
      "source": [
        "# 解压数据到data目录下\n",
        "! tar xzf mini_newsgroups.tar.gz -C ./data/"
      ],
      "metadata": {
        "id": "JssHdLEEgKLt"
      },
      "execution_count": null,
      "outputs": []
    },
    {
      "cell_type": "code",
      "source": [
        "## import revelant pacakages\n",
        "import os\n",
        "import re\n",
        "\n",
        "import matplotlib.pyplot as plt\n",
        "import numpy as np\n",
        "import pandas as pd\n",
        "\n",
        "from pyspark.sql.types import *\n",
        "from pyspark.sql.functions import expr\n",
        "from pyspark.sql import Row\n",
        "from pyspark.ml import Pipeline\n",
        "\n",
        "import sparknlp\n",
        "from sparknlp import DocumentAssembler, Finisher\n",
        "from sparknlp.annotator import *\n",
        "\n",
        "%matplotlib inline\n",
        "\n",
        "# 此处使用sparknlp.start()来开启一个spark session\n",
        "spark = sparknlp.start()"
      ],
      "metadata": {
        "id": "6g8XJL8OgM3z"
      },
      "execution_count": null,
      "outputs": []
    },
    {
      "cell_type": "markdown",
      "source": [
        "我们将构建一个分类器来识别文档来自哪个新闻组。但是新闻组在文档的标题中有提及，因此我们需要删除这些新闻组，仅保留文本。"
      ],
      "metadata": {
        "id": "q11XhU_OnPdJ"
      }
    },
    {
      "cell_type": "code",
      "source": [
        "# 创建pattern\n",
        "HEADER_PTN = re.compile(r'^[a-zA-Z-]+:.*')\n",
        "\n",
        "def remove_header(path_text_pair):\n",
        "    path, text = path_text_pair\n",
        "    lines = text.split('\\n')\n",
        "    line_iterator = iter(lines)\n",
        "    while HEADER_PTN.match(next(line_iterator)) is not None:\n",
        "        pass\n",
        "    return path, '\\n'.join(line_iterator)"
      ],
      "metadata": {
        "id": "f09flKElgPKx"
      },
      "execution_count": null,
      "outputs": []
    },
    {
      "cell_type": "code",
      "source": [
        "#####################################################################################################################\n",
        "# SparkContext是spark功能的主要入口。其代表与spark集群的连接，能够用来在集群上创建RDD、累加器、广播变量。\n",
        "# 每个JVM里只能存在一个处于激活状态的SparkContext，在创建新的SparkContext之前必须调用stop()来关闭之前的SparkContext。 \n",
        "#####################################################################################################################\n",
        "path = os.path.join('data', 'mini_newsgroups', '*')\n",
        "texts = spark.sparkContext.wholeTextFiles(path).map(remove_header)\n",
        "\n",
        "# 设置输入数据的数据类型\n",
        "schema = StructType([\n",
        "    StructField('path', StringType()),\n",
        "    StructField('text', StringType()),\n",
        "])\n",
        "\n",
        "# 创建DataFrame\n",
        "texts = spark.createDataFrame(texts, schema=schema) \\\n",
        "    .withColumn('newsgroup', expr('split(path, \"/\")[4]')) \\\n",
        "    .persist()"
      ],
      "metadata": {
        "id": "_VMjAAXwgRmM"
      },
      "execution_count": null,
      "outputs": []
    },
    {
      "cell_type": "code",
      "source": [
        "# 查看一下数据的结构\n",
        "texts.groupBy('newsgroup').count().collect()"
      ],
      "metadata": {
        "colab": {
          "base_uri": "https://localhost:8080/"
        },
        "id": "uDe6bqmVgUMX",
        "outputId": "c7b9a228-32ea-4ddb-e009-848ddadeda46"
      },
      "execution_count": null,
      "outputs": [
        {
          "output_type": "execute_result",
          "data": {
            "text/plain": [
              "[Row(newsgroup='comp.windows.x', count=100),\n",
              " Row(newsgroup='misc.forsale', count=100),\n",
              " Row(newsgroup='rec.sport.hockey', count=100),\n",
              " Row(newsgroup='rec.sport.baseball', count=100),\n",
              " Row(newsgroup='comp.os.ms-windows.misc', count=100),\n",
              " Row(newsgroup='comp.sys.ibm.pc.hardware', count=100),\n",
              " Row(newsgroup='comp.graphics', count=100),\n",
              " Row(newsgroup='comp.sys.mac.hardware', count=100),\n",
              " Row(newsgroup='rec.motorcycles', count=100),\n",
              " Row(newsgroup='rec.autos', count=100),\n",
              " Row(newsgroup='alt.atheism', count=100),\n",
              " Row(newsgroup='sci.crypt', count=100),\n",
              " Row(newsgroup='talk.politics.guns', count=100),\n",
              " Row(newsgroup='talk.politics.misc', count=100),\n",
              " Row(newsgroup='soc.religion.christian', count=100),\n",
              " Row(newsgroup='talk.religion.misc', count=100),\n",
              " Row(newsgroup='talk.politics.mideast', count=100),\n",
              " Row(newsgroup='sci.electronics', count=100),\n",
              " Row(newsgroup='sci.space', count=100),\n",
              " Row(newsgroup='sci.med', count=100)]"
            ]
          },
          "metadata": {},
          "execution_count": 8
        }
      ]
    },
    {
      "cell_type": "markdown",
      "source": [
        "可以看到我们的数据：一共20个分类，每个分类100条新闻"
      ],
      "metadata": {
        "id": "UaQdnP5JoRGW"
      }
    },
    {
      "cell_type": "code",
      "source": [
        "print(texts.first()['path'])\n",
        "print(texts.first()['newsgroup'])\n",
        "print(texts.first()['text'])"
      ],
      "metadata": {
        "colab": {
          "base_uri": "https://localhost:8080/"
        },
        "id": "n-NK76G5gWCe",
        "outputId": "eb190198-0946-4f2e-c4b0-195f54328bd3"
      },
      "execution_count": null,
      "outputs": [
        {
          "output_type": "stream",
          "name": "stdout",
          "text": [
            "file:/content/data/mini_newsgroups/alt.atheism/53633\n",
            "alt.atheism\n",
            "In article <1993Apr16.223250.15242@ncsu.edu> aiken@news.ncsu.edu (Wayne NMI Aiken) writes:\n",
            ">JSN104@psuvm.psu.edu wrote:\n",
            ">: YOU BLASHEPHEMERS!!! YOU WILL ALL GO TO HELL FOR NOT BELIEVING IN GOD!!!!  BE\n",
            ">: PREPARED FOR YOUR ETERNAL DAMNATION!!!\n",
            ">\n",
            ">Did someone leave their terminal unattended again?\n",
            ">\n",
            ">--\n",
            ">\n",
            ">Holy Temple of Mass  $   >>> slack@ncsu.edu <<<    $  \"My used underwear\n",
            ">   Consumption!      $                             $   is legal tender in\n",
            ">PO Box 30904         $     BBS: (919) 782-3095     $   28 countries!\"\n",
            ">Raleigh, NC  27622   $  Warning: I hoard pennies.  $     --\"Bob\"\n",
            "\n",
            "Probably not! The jesus freak's post is probably JSN104@PSUVM. Penn State\n",
            "is just loaded to the hilt with bible bangers. I use to go there *vomit* and\n",
            "it was the reason I left. They even had a group try to stop playing \n",
            "rock music in the dining halls one year cuz they deemed it satanic. Kampus\n",
            "Krusade for Khrist people run the damn place for the most part....except\n",
            "the Liberal Arts departments...they are the safe havens.\n",
            "-wdb\n",
            "\n",
            "v\n",
            "rock music in the dining\n",
            "t\n",
            "\n",
            "\n"
          ]
        }
      ]
    },
    {
      "cell_type": "markdown",
      "source": [
        "![image.png](data:image/png;base64,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)\n",
        "\n",
        "可以看到，经过我们的预处理，已经把原始文本中附带的信息头给去除掉了，现在新闻中只剩下最原始的文本信息"
      ],
      "metadata": {
        "id": "JRx71-qcoyI7"
      }
    },
    {
      "cell_type": "code",
      "source": [
        "# 此处我们创建一个pipeline，对数据再进行一系列的分词，清洗，最后送入分类器进行分类\n",
        "assembler = DocumentAssembler()\\\n",
        "    .setInputCol('text')\\\n",
        "    .setOutputCol('document')\n",
        "sentence = SentenceDetector() \\\n",
        "    .setInputCols([\"document\"]) \\\n",
        "    .setOutputCol(\"sentences\")\n",
        "tokenizer = Tokenizer()\\\n",
        "    .setInputCols(['sentences'])\\\n",
        "    .setOutputCol('token')\n",
        "lemmatizer = LemmatizerModel.pretrained()\\\n",
        "    .setInputCols(['token'])\\\n",
        "    .setOutputCol('lemma')\n",
        "normalizer = Normalizer()\\\n",
        "    .setCleanupPatterns([\n",
        "        '[^a-zA-Z.-]+', \n",
        "        '^[^a-zA-Z]+', \n",
        "        '[^a-zA-Z]+$',\n",
        "    ])\\\n",
        "    .setInputCols(['lemma'])\\\n",
        "    .setOutputCol('normalized')\\\n",
        "    .setLowercase(True)\n",
        "finisher = Finisher()\\\n",
        "    .setInputCols(['normalized'])\\\n",
        "    .setOutputCols(['normalized'])\\\n",
        "    .setOutputAsArray(True)\n",
        "pipeline = Pipeline().setStages([\n",
        "    assembler, sentence, tokenizer, \n",
        "    lemmatizer, normalizer, finisher\n",
        "]).fit(texts)"
      ],
      "metadata": {
        "colab": {
          "base_uri": "https://localhost:8080/"
        },
        "id": "GRXnH4jSgZOC",
        "outputId": "0d49caac-099a-4a87-813c-5ec3ac970415"
      },
      "execution_count": null,
      "outputs": [
        {
          "output_type": "stream",
          "name": "stdout",
          "text": [
            "lemma_antbnc download started this may take some time.\n",
            "Approximate size to download 907.6 KB\n",
            "[OK!]\n"
          ]
        }
      ]
    },
    {
      "cell_type": "code",
      "source": [
        "processed = pipeline.transform(texts).persist()"
      ],
      "metadata": {
        "id": "WBD1Dgffgchb"
      },
      "execution_count": null,
      "outputs": []
    },
    {
      "cell_type": "code",
      "source": [
        "# output the number of data length\n",
        "print(processed.count())"
      ],
      "metadata": {
        "colab": {
          "base_uri": "https://localhost:8080/"
        },
        "id": "W_UTXe9LgeQi",
        "outputId": "daba67b4-97be-434c-d1ac-92c5713e0df2"
      },
      "execution_count": null,
      "outputs": [
        {
          "output_type": "stream",
          "name": "stdout",
          "text": [
            "2000\n"
          ]
        }
      ]
    },
    {
      "cell_type": "markdown",
      "source": [
        "TF-IDF构建的文档向量是文档分类和回归中使用的最常见的特征类型。然而，使用这样的功能有一些困难。根据语料库的大小，我们得到的特征可能会超过几万个，而且对于任何一篇新闻应该都只有几百到几千个非零特征，所以创建整个词向量矩阵是不现实的。此处我们通过创建特征矩阵的稀疏表示来处理，其中省略count为0的值。"
      ],
      "metadata": {
        "id": "RVuYfFkAqL0q"
      }
    },
    {
      "cell_type": "code",
      "source": [
        "# 构建词向量，并计算TF-IDF\n",
        "from pyspark.ml.feature import CountVectorizer, IDF\n",
        "\n",
        "count_vectorizer = CountVectorizer(\n",
        "    inputCol='normalized', outputCol='tf', minDF=10)\n",
        "idf = IDF(inputCol='tf', outputCol='tfidf', minDocFreq=10)\n",
        "\n",
        "bow_pipeline = Pipeline(stages=[count_vectorizer, idf])\n",
        "bow_pipeline = bow_pipeline.fit(processed)\n",
        "\n",
        "bows = bow_pipeline.transform(processed)"
      ],
      "metadata": {
        "id": "A4KNw7MCggHo"
      },
      "execution_count": null,
      "outputs": []
    },
    {
      "cell_type": "code",
      "source": [
        "bows.limit(5).toPandas()[['tf', 'tfidf']]"
      ],
      "metadata": {
        "colab": {
          "base_uri": "https://localhost:8080/",
          "height": 206
        },
        "id": "pMdDIynOgix0",
        "outputId": "efa337c2-7f6c-406b-dce2-1133d026c710"
      },
      "execution_count": null,
      "outputs": [
        {
          "output_type": "execute_result",
          "data": {
            "text/plain": [
              "                                                  tf  \\\n",
              "0  (9.0, 6.0, 4.0, 1.0, 1.0, 1.0, 3.0, 5.0, 0.0, ...   \n",
              "1  (2.0, 7.0, 3.0, 3.0, 4.0, 1.0, 2.0, 1.0, 5.0, ...   \n",
              "2  (10.0, 32.0, 15.0, 12.0, 12.0, 2.0, 12.0, 5.0,...   \n",
              "3  (10.0, 11.0, 2.0, 2.0, 5.0, 3.0, 4.0, 3.0, 4.0...   \n",
              "4  (1.0, 1.0, 0.0, 0.0, 0.0, 2.0, 0.0, 0.0, 0.0, ...   \n",
              "\n",
              "                                               tfidf  \n",
              "0  (0.6576351108883792, 0.5491156405729176, 0.526...  \n",
              "1  (0.14614113575297316, 0.6406349140017372, 0.39...  \n",
              "2  (0.7307056787648658, 2.9286167497222273, 1.976...  \n",
              "3  (0.7307056787648658, 1.0067120077170157, 0.263...  \n",
              "4  (0.07307056787648658, 0.0915192734288196, 0.0,...  "
            ],
            "text/html": [
              "\n",
              "  <div id=\"df-d96950e5-a9f8-4fcf-a312-ebf3dd15a3d0\">\n",
              "    <div class=\"colab-df-container\">\n",
              "      <div>\n",
              "<style scoped>\n",
              "    .dataframe tbody tr th:only-of-type {\n",
              "        vertical-align: middle;\n",
              "    }\n",
              "\n",
              "    .dataframe tbody tr th {\n",
              "        vertical-align: top;\n",
              "    }\n",
              "\n",
              "    .dataframe thead th {\n",
              "        text-align: right;\n",
              "    }\n",
              "</style>\n",
              "<table border=\"1\" class=\"dataframe\">\n",
              "  <thead>\n",
              "    <tr style=\"text-align: right;\">\n",
              "      <th></th>\n",
              "      <th>tf</th>\n",
              "      <th>tfidf</th>\n",
              "    </tr>\n",
              "  </thead>\n",
              "  <tbody>\n",
              "    <tr>\n",
              "      <th>0</th>\n",
              "      <td>(9.0, 6.0, 4.0, 1.0, 1.0, 1.0, 3.0, 5.0, 0.0, ...</td>\n",
              "      <td>(0.6576351108883792, 0.5491156405729176, 0.526...</td>\n",
              "    </tr>\n",
              "    <tr>\n",
              "      <th>1</th>\n",
              "      <td>(2.0, 7.0, 3.0, 3.0, 4.0, 1.0, 2.0, 1.0, 5.0, ...</td>\n",
              "      <td>(0.14614113575297316, 0.6406349140017372, 0.39...</td>\n",
              "    </tr>\n",
              "    <tr>\n",
              "      <th>2</th>\n",
              "      <td>(10.0, 32.0, 15.0, 12.0, 12.0, 2.0, 12.0, 5.0,...</td>\n",
              "      <td>(0.7307056787648658, 2.9286167497222273, 1.976...</td>\n",
              "    </tr>\n",
              "    <tr>\n",
              "      <th>3</th>\n",
              "      <td>(10.0, 11.0, 2.0, 2.0, 5.0, 3.0, 4.0, 3.0, 4.0...</td>\n",
              "      <td>(0.7307056787648658, 1.0067120077170157, 0.263...</td>\n",
              "    </tr>\n",
              "    <tr>\n",
              "      <th>4</th>\n",
              "      <td>(1.0, 1.0, 0.0, 0.0, 0.0, 2.0, 0.0, 0.0, 0.0, ...</td>\n",
              "      <td>(0.07307056787648658, 0.0915192734288196, 0.0,...</td>\n",
              "    </tr>\n",
              "  </tbody>\n",
              "</table>\n",
              "</div>\n",
              "      <button class=\"colab-df-convert\" onclick=\"convertToInteractive('df-d96950e5-a9f8-4fcf-a312-ebf3dd15a3d0')\"\n",
              "              title=\"Convert this dataframe to an interactive table.\"\n",
              "              style=\"display:none;\">\n",
              "        \n",
              "  <svg xmlns=\"http://www.w3.org/2000/svg\" height=\"24px\"viewBox=\"0 0 24 24\"\n",
              "       width=\"24px\">\n",
              "    <path d=\"M0 0h24v24H0V0z\" fill=\"none\"/>\n",
              "    <path d=\"M18.56 5.44l.94 2.06.94-2.06 2.06-.94-2.06-.94-.94-2.06-.94 2.06-2.06.94zm-11 1L8.5 8.5l.94-2.06 2.06-.94-2.06-.94L8.5 2.5l-.94 2.06-2.06.94zm10 10l.94 2.06.94-2.06 2.06-.94-2.06-.94-.94-2.06-.94 2.06-2.06.94z\"/><path d=\"M17.41 7.96l-1.37-1.37c-.4-.4-.92-.59-1.43-.59-.52 0-1.04.2-1.43.59L10.3 9.45l-7.72 7.72c-.78.78-.78 2.05 0 2.83L4 21.41c.39.39.9.59 1.41.59.51 0 1.02-.2 1.41-.59l7.78-7.78 2.81-2.81c.8-.78.8-2.07 0-2.86zM5.41 20L4 18.59l7.72-7.72 1.47 1.35L5.41 20z\"/>\n",
              "  </svg>\n",
              "      </button>\n",
              "      \n",
              "  <style>\n",
              "    .colab-df-container {\n",
              "      display:flex;\n",
              "      flex-wrap:wrap;\n",
              "      gap: 12px;\n",
              "    }\n",
              "\n",
              "    .colab-df-convert {\n",
              "      background-color: #E8F0FE;\n",
              "      border: none;\n",
              "      border-radius: 50%;\n",
              "      cursor: pointer;\n",
              "      display: none;\n",
              "      fill: #1967D2;\n",
              "      height: 32px;\n",
              "      padding: 0 0 0 0;\n",
              "      width: 32px;\n",
              "    }\n",
              "\n",
              "    .colab-df-convert:hover {\n",
              "      background-color: #E2EBFA;\n",
              "      box-shadow: 0px 1px 2px rgba(60, 64, 67, 0.3), 0px 1px 3px 1px rgba(60, 64, 67, 0.15);\n",
              "      fill: #174EA6;\n",
              "    }\n",
              "\n",
              "    [theme=dark] .colab-df-convert {\n",
              "      background-color: #3B4455;\n",
              "      fill: #D2E3FC;\n",
              "    }\n",
              "\n",
              "    [theme=dark] .colab-df-convert:hover {\n",
              "      background-color: #434B5C;\n",
              "      box-shadow: 0px 1px 3px 1px rgba(0, 0, 0, 0.15);\n",
              "      filter: drop-shadow(0px 1px 2px rgba(0, 0, 0, 0.3));\n",
              "      fill: #FFFFFF;\n",
              "    }\n",
              "  </style>\n",
              "\n",
              "      <script>\n",
              "        const buttonEl =\n",
              "          document.querySelector('#df-d96950e5-a9f8-4fcf-a312-ebf3dd15a3d0 button.colab-df-convert');\n",
              "        buttonEl.style.display =\n",
              "          google.colab.kernel.accessAllowed ? 'block' : 'none';\n",
              "\n",
              "        async function convertToInteractive(key) {\n",
              "          const element = document.querySelector('#df-d96950e5-a9f8-4fcf-a312-ebf3dd15a3d0');\n",
              "          const dataTable =\n",
              "            await google.colab.kernel.invokeFunction('convertToInteractive',\n",
              "                                                     [key], {});\n",
              "          if (!dataTable) return;\n",
              "\n",
              "          const docLinkHtml = 'Like what you see? Visit the ' +\n",
              "            '<a target=\"_blank\" href=https://colab.research.google.com/notebooks/data_table.ipynb>data table notebook</a>'\n",
              "            + ' to learn more about interactive tables.';\n",
              "          element.innerHTML = '';\n",
              "          dataTable['output_type'] = 'display_data';\n",
              "          await google.colab.output.renderOutput(dataTable, element);\n",
              "          const docLink = document.createElement('div');\n",
              "          docLink.innerHTML = docLinkHtml;\n",
              "          element.appendChild(docLink);\n",
              "        }\n",
              "      </script>\n",
              "    </div>\n",
              "  </div>\n",
              "  "
            ]
          },
          "metadata": {},
          "execution_count": 14
        }
      ]
    },
    {
      "cell_type": "markdown",
      "source": [
        "因为我们要做的是文本分类，而这里有很多类别，不同类别的新闻有不同的关键词，此处随机生成一些词汇并在我们处理好的数据中查询，看看数据分布的情况。这里我们使用spark-nlp提供的`RegexMatcher`来匹配关键字。 "
      ],
      "metadata": {
        "id": "oqQwoD5yrgPx"
      }
    },
    {
      "cell_type": "code",
      "source": [
        "%%writefile scifi_rules.tsv\n",
        "\\w+(lith|ant|an)ium,mineral\n",
        "(alien|cosmic|quantum|dimension(al)?),space_word"
      ],
      "metadata": {
        "colab": {
          "base_uri": "https://localhost:8080/"
        },
        "id": "9dXQSqp0gkoP",
        "outputId": "786ff664-8a97-40b6-d6cc-dd2c0aad3615"
      },
      "execution_count": null,
      "outputs": [
        {
          "output_type": "stream",
          "name": "stdout",
          "text": [
            "Writing scifi_rules.tsv\n"
          ]
        }
      ]
    },
    {
      "cell_type": "code",
      "source": [
        "# 使用正则表达式的方式进行文本查找\n",
        "regex_matcher = RegexMatcher() \\\n",
        "    .setOutputCol(\"regex\") \\\n",
        "    .setExternalRules('./scifi_rules.tsv', ',')"
      ],
      "metadata": {
        "id": "RAfQ3Sn0gnJV"
      },
      "execution_count": null,
      "outputs": []
    },
    {
      "cell_type": "code",
      "source": [
        "regex_finisher = Finisher()\\\n",
        "    .setInputCols(['regex'])\\\n",
        "    .setOutputCols(['regex'])\\\n",
        "    .setOutputAsArray(True)\n",
        "\n",
        "regex_rule_pipeline = Pipeline().setStages([\n",
        "    assembler, regex_matcher, regex_finisher\n",
        "]).fit(texts)\n",
        "\n",
        "regex_matches = regex_rule_pipeline.transform(texts)"
      ],
      "metadata": {
        "id": "zHiq3Le1gp-5"
      },
      "execution_count": null,
      "outputs": []
    },
    {
      "cell_type": "code",
      "source": [
        "regex_matches.orderBy(expr('size(regex)').desc())\\\n",
        "    .limit(5).toPandas()[['newsgroup', 'regex']]"
      ],
      "metadata": {
        "colab": {
          "base_uri": "https://localhost:8080/",
          "height": 206
        },
        "id": "XWXe4QhWgr6S",
        "outputId": "dad61129-eb98-42e4-d78c-3eb1d34c0462"
      },
      "execution_count": null,
      "outputs": [
        {
          "output_type": "execute_result",
          "data": {
            "text/plain": [
              "            newsgroup                                              regex\n",
              "0  talk.politics.guns  [alien, alien, alien, alien, alien, alien, alien]\n",
              "1       comp.graphics   [dimensional, dimension, dimensional, dimension]\n",
              "2           sci.space                         [quantum, quantum, cosmic]\n",
              "3           sci.space                           [cosmic, cosmic, cosmic]\n",
              "4             sci.med                  [dimensional, alien, dimensional]"
            ],
            "text/html": [
              "\n",
              "  <div id=\"df-0e62e77f-deaf-4a33-a0f3-00652a42eb77\">\n",
              "    <div class=\"colab-df-container\">\n",
              "      <div>\n",
              "<style scoped>\n",
              "    .dataframe tbody tr th:only-of-type {\n",
              "        vertical-align: middle;\n",
              "    }\n",
              "\n",
              "    .dataframe tbody tr th {\n",
              "        vertical-align: top;\n",
              "    }\n",
              "\n",
              "    .dataframe thead th {\n",
              "        text-align: right;\n",
              "    }\n",
              "</style>\n",
              "<table border=\"1\" class=\"dataframe\">\n",
              "  <thead>\n",
              "    <tr style=\"text-align: right;\">\n",
              "      <th></th>\n",
              "      <th>newsgroup</th>\n",
              "      <th>regex</th>\n",
              "    </tr>\n",
              "  </thead>\n",
              "  <tbody>\n",
              "    <tr>\n",
              "      <th>0</th>\n",
              "      <td>talk.politics.guns</td>\n",
              "      <td>[alien, alien, alien, alien, alien, alien, alien]</td>\n",
              "    </tr>\n",
              "    <tr>\n",
              "      <th>1</th>\n",
              "      <td>comp.graphics</td>\n",
              "      <td>[dimensional, dimension, dimensional, dimension]</td>\n",
              "    </tr>\n",
              "    <tr>\n",
              "      <th>2</th>\n",
              "      <td>sci.space</td>\n",
              "      <td>[quantum, quantum, cosmic]</td>\n",
              "    </tr>\n",
              "    <tr>\n",
              "      <th>3</th>\n",
              "      <td>sci.space</td>\n",
              "      <td>[cosmic, cosmic, cosmic]</td>\n",
              "    </tr>\n",
              "    <tr>\n",
              "      <th>4</th>\n",
              "      <td>sci.med</td>\n",
              "      <td>[dimensional, alien, dimensional]</td>\n",
              "    </tr>\n",
              "  </tbody>\n",
              "</table>\n",
              "</div>\n",
              "      <button class=\"colab-df-convert\" onclick=\"convertToInteractive('df-0e62e77f-deaf-4a33-a0f3-00652a42eb77')\"\n",
              "              title=\"Convert this dataframe to an interactive table.\"\n",
              "              style=\"display:none;\">\n",
              "        \n",
              "  <svg xmlns=\"http://www.w3.org/2000/svg\" height=\"24px\"viewBox=\"0 0 24 24\"\n",
              "       width=\"24px\">\n",
              "    <path d=\"M0 0h24v24H0V0z\" fill=\"none\"/>\n",
              "    <path d=\"M18.56 5.44l.94 2.06.94-2.06 2.06-.94-2.06-.94-.94-2.06-.94 2.06-2.06.94zm-11 1L8.5 8.5l.94-2.06 2.06-.94-2.06-.94L8.5 2.5l-.94 2.06-2.06.94zm10 10l.94 2.06.94-2.06 2.06-.94-2.06-.94-.94-2.06-.94 2.06-2.06.94z\"/><path d=\"M17.41 7.96l-1.37-1.37c-.4-.4-.92-.59-1.43-.59-.52 0-1.04.2-1.43.59L10.3 9.45l-7.72 7.72c-.78.78-.78 2.05 0 2.83L4 21.41c.39.39.9.59 1.41.59.51 0 1.02-.2 1.41-.59l7.78-7.78 2.81-2.81c.8-.78.8-2.07 0-2.86zM5.41 20L4 18.59l7.72-7.72 1.47 1.35L5.41 20z\"/>\n",
              "  </svg>\n",
              "      </button>\n",
              "      \n",
              "  <style>\n",
              "    .colab-df-container {\n",
              "      display:flex;\n",
              "      flex-wrap:wrap;\n",
              "      gap: 12px;\n",
              "    }\n",
              "\n",
              "    .colab-df-convert {\n",
              "      background-color: #E8F0FE;\n",
              "      border: none;\n",
              "      border-radius: 50%;\n",
              "      cursor: pointer;\n",
              "      display: none;\n",
              "      fill: #1967D2;\n",
              "      height: 32px;\n",
              "      padding: 0 0 0 0;\n",
              "      width: 32px;\n",
              "    }\n",
              "\n",
              "    .colab-df-convert:hover {\n",
              "      background-color: #E2EBFA;\n",
              "      box-shadow: 0px 1px 2px rgba(60, 64, 67, 0.3), 0px 1px 3px 1px rgba(60, 64, 67, 0.15);\n",
              "      fill: #174EA6;\n",
              "    }\n",
              "\n",
              "    [theme=dark] .colab-df-convert {\n",
              "      background-color: #3B4455;\n",
              "      fill: #D2E3FC;\n",
              "    }\n",
              "\n",
              "    [theme=dark] .colab-df-convert:hover {\n",
              "      background-color: #434B5C;\n",
              "      box-shadow: 0px 1px 3px 1px rgba(0, 0, 0, 0.15);\n",
              "      filter: drop-shadow(0px 1px 2px rgba(0, 0, 0, 0.3));\n",
              "      fill: #FFFFFF;\n",
              "    }\n",
              "  </style>\n",
              "\n",
              "      <script>\n",
              "        const buttonEl =\n",
              "          document.querySelector('#df-0e62e77f-deaf-4a33-a0f3-00652a42eb77 button.colab-df-convert');\n",
              "        buttonEl.style.display =\n",
              "          google.colab.kernel.accessAllowed ? 'block' : 'none';\n",
              "\n",
              "        async function convertToInteractive(key) {\n",
              "          const element = document.querySelector('#df-0e62e77f-deaf-4a33-a0f3-00652a42eb77');\n",
              "          const dataTable =\n",
              "            await google.colab.kernel.invokeFunction('convertToInteractive',\n",
              "                                                     [key], {});\n",
              "          if (!dataTable) return;\n",
              "\n",
              "          const docLinkHtml = 'Like what you see? Visit the ' +\n",
              "            '<a target=\"_blank\" href=https://colab.research.google.com/notebooks/data_table.ipynb>data table notebook</a>'\n",
              "            + ' to learn more about interactive tables.';\n",
              "          element.innerHTML = '';\n",
              "          dataTable['output_type'] = 'display_data';\n",
              "          await google.colab.output.renderOutput(dataTable, element);\n",
              "          const docLink = document.createElement('div');\n",
              "          docLink.innerHTML = docLinkHtml;\n",
              "          element.appendChild(docLink);\n",
              "        }\n",
              "      </script>\n",
              "    </div>\n",
              "  </div>\n",
              "  "
            ]
          },
          "metadata": {},
          "execution_count": 18
        }
      ]
    },
    {
      "cell_type": "markdown",
      "source": [
        "可以看到我们生成的关键字在相应的文章中是可以找到的"
      ],
      "metadata": {
        "id": "5p2MwEkzr0H4"
      }
    },
    {
      "cell_type": "code",
      "source": [
        "# 去除无意义的停用词\n",
        "from pyspark.ml.feature import StopWordsRemover\n",
        "\n",
        "sw_remover = StopWordsRemover() \\\n",
        "    .setInputCol(\"normalized\") \\\n",
        "    .setOutputCol(\"filtered\") \\\n",
        "    .setStopWords(StopWordsRemover.loadDefaultStopWords(\"english\"))"
      ],
      "metadata": {
        "id": "RS_GQg_ogvFf"
      },
      "execution_count": null,
      "outputs": []
    },
    {
      "cell_type": "markdown",
      "source": [
        "接下来展示如何更新一下我们的pipeline，仅作为演示，项目实际使用的pipeline将从头构建，我们使用`setStages`方法来更新pipeline，将每一步需要完成的步骤放入stage列表中即可。"
      ],
      "metadata": {
        "id": "uqcNoZuQseNs"
      }
    },
    {
      "cell_type": "code",
      "source": [
        "# 更新我们的pipeline\n",
        "count_vectorizer = CountVectorizer(inputCol='filtered', \n",
        "    outputCol='tf', minDF=10)\n",
        "idf = IDF(inputCol='tf', outputCol='tfidf', minDocFreq=10)\n",
        "\n",
        "pipeline = Pipeline() \\\n",
        "    .setStages([\n",
        "        assembler, \n",
        "        sentence, \n",
        "        tokenizer, \n",
        "        lemmatizer, \n",
        "        normalizer, \n",
        "        finisher, \n",
        "        sw_remover,\n",
        "        count_vectorizer,\n",
        "        idf\n",
        "    ]) \\\n",
        "    .fit(texts)"
      ],
      "metadata": {
        "id": "gMnfmsLGgw25"
      },
      "execution_count": null,
      "outputs": []
    },
    {
      "cell_type": "code",
      "source": [
        "features = pipeline.transform(texts).persist()"
      ],
      "metadata": {
        "id": "ljuodWZ9gzZv"
      },
      "execution_count": null,
      "outputs": []
    },
    {
      "cell_type": "code",
      "source": [
        "features.printSchema()"
      ],
      "metadata": {
        "colab": {
          "base_uri": "https://localhost:8080/"
        },
        "id": "omav50r0g2GZ",
        "outputId": "da98eefa-22ad-4bae-f80d-d56d9777c9ef"
      },
      "execution_count": null,
      "outputs": [
        {
          "output_type": "stream",
          "name": "stdout",
          "text": [
            "root\n",
            " |-- path: string (nullable = true)\n",
            " |-- text: string (nullable = true)\n",
            " |-- newsgroup: string (nullable = true)\n",
            " |-- normalized: array (nullable = true)\n",
            " |    |-- element: string (containsNull = true)\n",
            " |-- filtered: array (nullable = true)\n",
            " |    |-- element: string (containsNull = true)\n",
            " |-- tf: vector (nullable = true)\n",
            " |-- tfidf: vector (nullable = true)\n",
            "\n"
          ]
        }
      ]
    },
    {
      "cell_type": "code",
      "source": [
        "pipeline.stages"
      ],
      "metadata": {
        "colab": {
          "base_uri": "https://localhost:8080/"
        },
        "id": "Z22jUBCAg4D5",
        "outputId": "0dc1ecab-5efe-42ad-8667-ce97d0155ace"
      },
      "execution_count": null,
      "outputs": [
        {
          "output_type": "execute_result",
          "data": {
            "text/plain": [
              "[DocumentAssembler_e24082572e97,\n",
              " SentenceDetector_7eebabc51803,\n",
              " REGEX_TOKENIZER_2b61af83b6d9,\n",
              " LEMMATIZER_c62ad8f355f9,\n",
              " NORMALIZER_f0ca58f39a04,\n",
              " Finisher_8f7b6f94f328,\n",
              " StopWordsRemover_6379bd8e6251,\n",
              " CountVectorizerModel: uid=CountVectorizer_65e7a8e33c48, vocabularySize=3033,\n",
              " IDFModel: uid=IDF_13dbab20cb6c, numDocs=2000, numFeatures=3033]"
            ]
          },
          "metadata": {},
          "execution_count": 23
        }
      ]
    },
    {
      "cell_type": "code",
      "source": [
        "cv_model = pipeline.stages[-2]"
      ],
      "metadata": {
        "id": "JsZ7y3nSg6AH"
      },
      "execution_count": null,
      "outputs": []
    },
    {
      "cell_type": "markdown",
      "source": [
        "接下来我们可以查看一下我们构建的词汇表的信息，包括词汇表的大小，以及出现最多的词汇是哪些"
      ],
      "metadata": {
        "id": "bKJHD4CvsunA"
      }
    },
    {
      "cell_type": "code",
      "source": [
        "# 打印词汇表的大小\n",
        "len(cv_model.vocabulary)"
      ],
      "metadata": {
        "colab": {
          "base_uri": "https://localhost:8080/"
        },
        "id": "VY2sIvvag77m",
        "outputId": "6642b84a-3b8e-45d8-8e2d-48c5983fc27c"
      },
      "execution_count": null,
      "outputs": [
        {
          "output_type": "execute_result",
          "data": {
            "text/plain": [
              "3033"
            ]
          },
          "metadata": {},
          "execution_count": 25
        }
      ]
    },
    {
      "cell_type": "code",
      "source": [
        "# 查看词汇表的一些信息\n",
        "cv_model.vocabulary[:10]"
      ],
      "metadata": {
        "colab": {
          "base_uri": "https://localhost:8080/"
        },
        "id": "aFYrngmgg990",
        "outputId": "e8771800-03d3-4eee-c0ea-befc1338396b"
      },
      "execution_count": null,
      "outputs": [
        {
          "output_type": "execute_result",
          "data": {
            "text/plain": [
              "['write', 'one', 'use', 'get', 'article', 'say', 'know', 'x', 'make', 'dont']"
            ]
          },
          "metadata": {},
          "execution_count": 26
        }
      ]
    },
    {
      "cell_type": "code",
      "source": [
        "tf = features.select('tf').toPandas()\n",
        "tf = tf['tf'].apply(lambda sv: sv.toArray())\n",
        "mean_tf = pd.Series(tf.mean(), index=cv_model.vocabulary)"
      ],
      "metadata": {
        "id": "XmNiCOMAg_ca"
      },
      "execution_count": null,
      "outputs": []
    },
    {
      "cell_type": "code",
      "source": [
        "plt.figure(figsize=(12, 8))\n",
        "mean_tf.hist(bins=10)\n",
        "plt.title('Histogram of mean term frequency per word over the corpus')\n",
        "plt.show()"
      ],
      "metadata": {
        "colab": {
          "base_uri": "https://localhost:8080/",
          "height": 499
        },
        "id": "23OB3qHMhBYL",
        "outputId": "cb9d9560-350f-4fa7-e89b-906c1dc27a7b"
      },
      "execution_count": null,
      "outputs": [
        {
          "output_type": "display_data",
          "data": {
            "text/plain": [
              "<Figure size 864x576 with 1 Axes>"
            ],
            "image/png": "[encoded data removed]"
          },
          "metadata": {
            "needs_background": "light"
          }
        }
      ]
    },
    {
      "cell_type": "code",
      "source": [
        "plt.figure(figsize=(12, 8))\n",
        "ranks = np.arange(len(mean_tf)) + 1\n",
        "plt.plot(np.log10(ranks), np.log10(mean_tf.values))\n",
        "plt.title('Plot of the log of rank (by mean term frequency) versus the log of mean term frequency')\n",
        "plt.show()"
      ],
      "metadata": {
        "colab": {
          "base_uri": "https://localhost:8080/",
          "height": 499
        },
        "id": "r_SRa0ZvhDSg",
        "outputId": "a7ff5e0a-4066-458c-cfb6-d98840e68e35"
      },
      "execution_count": null,
      "outputs": [
        {
          "output_type": "display_data",
          "data": {
            "text/plain": [
              "<Figure size 864x576 with 1 Axes>"
            ],
            "image/png": "[encoded data removed]"
          },
          "metadata": {
            "needs_background": "light"
          }
        }
      ]
    },
    {
      "cell_type": "markdown",
      "source": [
        "分割数据，分成测试集和训练集"
      ],
      "metadata": {
        "id": "Hzs8rRHos7a_"
      }
    },
    {
      "cell_type": "code",
      "source": [
        "train, test = texts.randomSplit([0.8, 0.2], seed=123)"
      ],
      "metadata": {
        "id": "2gD7e_kPhFNL"
      },
      "execution_count": null,
      "outputs": []
    },
    {
      "cell_type": "markdown",
      "source": [
        "去除停用词"
      ],
      "metadata": {
        "id": "QMcOvXX7tCKb"
      }
    },
    {
      "cell_type": "code",
      "source": [
        "stopwords = set(StopWordsRemover.loadDefaultStopWords(\"english\"))"
      ],
      "metadata": {
        "id": "symvJNl8hInr"
      },
      "execution_count": null,
      "outputs": []
    },
    {
      "cell_type": "markdown",
      "source": [
        "上面我们已经演示了一些方法的具体调用细节，并查看了每一步的输出，接下来直接在整个数据集上使用这些方法即可"
      ],
      "metadata": {
        "id": "-rtuADjVtGR5"
      }
    },
    {
      "cell_type": "code",
      "source": [
        "sw_remover = StopWordsRemover() \\\n",
        "    .setInputCol(\"normalized\") \\\n",
        "    .setOutputCol(\"filtered\") \\\n",
        "    .setStopWords(list(stopwords))\n",
        "\n",
        "count_vectorizer = CountVectorizer(inputCol='filtered', \n",
        "    outputCol='tf', minDF=10)\n",
        "idf = IDF(inputCol='tf', outputCol='tfidf', minDocFreq=10)\n",
        "\n",
        "text_processing_pipeline = Pipeline(stages=[\n",
        "        assembler, \n",
        "        sentence, \n",
        "        tokenizer, \n",
        "        lemmatizer, \n",
        "        normalizer, \n",
        "        finisher, \n",
        "        sw_remover,\n",
        "        count_vectorizer,\n",
        "        idf\n",
        "    ])"
      ],
      "metadata": {
        "id": "Xy-0CUNihKRh"
      },
      "execution_count": null,
      "outputs": []
    },
    {
      "cell_type": "code",
      "source": [
        "from pyspark.ml.feature import IndexToString, StringIndexer\n",
        "from pyspark.ml.classification import *\n",
        "from pyspark.ml.tuning import *\n",
        "from pyspark.ml.evaluation import *"
      ],
      "metadata": {
        "id": "2HSmY8CdhL5H"
      },
      "execution_count": null,
      "outputs": []
    },
    {
      "cell_type": "markdown",
      "source": [
        "这里使用最简单的朴素贝叶斯的方法来进行分类"
      ],
      "metadata": {
        "id": "Dp5qZFA_tpaD"
      }
    },
    {
      "cell_type": "code",
      "source": [
        "label_indexer = StringIndexer(inputCol='newsgroup', outputCol='label').fit(texts)\n",
        "naive_bayes = NaiveBayes(featuresCol='tfidf')\n",
        "prediction_deindexer = IndexToString(inputCol='prediction', outputCol='pred_newsgroup', \n",
        "                                     labels=label_indexer.labels)\n",
        "\n",
        "pipeline = Pipeline(stages=[\n",
        "    text_processing_pipeline, label_indexer, naive_bayes, prediction_deindexer\n",
        "])"
      ],
      "metadata": {
        "id": "IomCEfIjhNu5"
      },
      "execution_count": null,
      "outputs": []
    },
    {
      "cell_type": "markdown",
      "source": [
        "构建模型"
      ],
      "metadata": {
        "id": "GSjWmKHTtwdP"
      }
    },
    {
      "cell_type": "code",
      "source": [
        "model = pipeline.fit(train)"
      ],
      "metadata": {
        "id": "tct-2q08hPly"
      },
      "execution_count": null,
      "outputs": []
    },
    {
      "cell_type": "markdown",
      "source": [
        "分别在测试集和训练集上查看模型的效果"
      ],
      "metadata": {
        "id": "h8SPAYbvtv5Q"
      }
    },
    {
      "cell_type": "code",
      "source": [
        "train_predicted = model.transform(train)\n",
        "test_predicted = model.transform(test)"
      ],
      "metadata": {
        "id": "yn7NsQlshRFl"
      },
      "execution_count": null,
      "outputs": []
    },
    {
      "cell_type": "code",
      "source": [
        "evaluator = MulticlassClassificationEvaluator(metricName='f1')"
      ],
      "metadata": {
        "id": "O1wcqAgPhTNZ"
      },
      "execution_count": null,
      "outputs": []
    },
    {
      "cell_type": "code",
      "source": [
        "print('f1', evaluator.evaluate(train_predicted))"
      ],
      "metadata": {
        "colab": {
          "base_uri": "https://localhost:8080/"
        },
        "id": "lnn3Mp4hhVKD",
        "outputId": "39cbdf4e-f18c-495b-fc89-40fc7a81f611"
      },
      "execution_count": null,
      "outputs": [
        {
          "output_type": "stream",
          "name": "stdout",
          "text": [
            "f1 0.9368578470322438\n"
          ]
        }
      ]
    },
    {
      "cell_type": "code",
      "source": [
        "print('f1', evaluator.evaluate(test_predicted))"
      ],
      "metadata": {
        "colab": {
          "base_uri": "https://localhost:8080/"
        },
        "id": "mpXRBwxfhXqO",
        "outputId": "a76619cd-3236-4eca-9442-6c79da30dd5f"
      },
      "execution_count": null,
      "outputs": [
        {
          "output_type": "stream",
          "name": "stdout",
          "text": [
            "f1 0.6096141991442257\n"
          ]
        }
      ]
    },
    {
      "cell_type": "markdown",
      "source": [
        "此处我们使用f1分数来评判最终模型的好坏，因为F1分数是准确度和召回率的调和平均值。可以看到我们的模型在训练集上得到了0.937的分数，然而在测试集上仅仅得到0.610的分数，可能是我们的模型过拟合了。"
      ],
      "metadata": {
        "id": "5Q0CSVq1t6ba"
      }
    }
  ]
}